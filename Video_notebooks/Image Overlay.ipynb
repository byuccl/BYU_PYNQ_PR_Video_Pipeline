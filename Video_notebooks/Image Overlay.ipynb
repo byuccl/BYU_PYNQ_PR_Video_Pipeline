{
 "cells": [
  {
   "cell_type": "markdown",
   "metadata": {},
   "source": [
    "# Image Overlay #"
   ]
  },
  {
   "cell_type": "markdown",
   "metadata": {},
   "source": [
    "This overlays the frame with a small 256 tone image\n",
    "\n"
   ]
  },
  {
   "cell_type": "markdown",
   "metadata": {},
   "source": [
    "First you download the bit file."
   ]
  },
  {
   "cell_type": "code",
   "execution_count": null,
   "metadata": {},
   "outputs": [],
   "source": [
    "from pynq.overlays.video import *\n",
    "from pynq.lib.video import *\n",
    "\n",
    "base = VideoOverlay(\"video.bit\")\n",
    "hdmi_in = base.video.hdmi_in\n",
    "hdmi_out = base.video.hdmi_out"
   ]
  },
  {
   "cell_type": "markdown",
   "metadata": {},
   "source": [
    "Then start up the PRControl, the video will not work otherwise. It initailzes the Video Axi Switch so HDMI runs through the VDMA."
   ]
  },
  {
   "cell_type": "code",
   "execution_count": null,
   "metadata": {},
   "outputs": [],
   "source": [
    "from pynq.overlays.video import PRControl\n",
    "pr_inst = PRControl()"
   ]
  },
  {
   "cell_type": "markdown",
   "metadata": {},
   "source": [
    "The best video sources are computers where you can control the resoltuion."
   ]
  },
  {
   "cell_type": "code",
   "execution_count": null,
   "metadata": {},
   "outputs": [],
   "source": [
    "hdmi_in.configure()\n",
    "hdmi_out.configure(hdmi_in.mode,PIXEL_BGR)\n",
    "hdmi_out.start()\n",
    "hdmi_in.start()\n",
    "hdmi_in.tie(hdmi_out)"
   ]
  },
  {
   "cell_type": "markdown",
   "metadata": {},
   "source": [
    "Here is a frame in VDMA."
   ]
  },
  {
   "cell_type": "code",
   "execution_count": null,
   "metadata": {},
   "outputs": [],
   "source": [
    "import PIL.Image\n",
    "import cv2\n",
    "frame = hdmi_in.readframe()\n",
    "frame = cv2.cvtColor(frame,cv2.COLOR_BGR2RGB)\n",
    "image = PIL.Image.fromarray(frame)\n",
    "image"
   ]
  },
  {
   "cell_type": "markdown",
   "metadata": {},
   "source": [
    "The Image Overlay has to be loaded in.  The image overlay only fits into L0"
   ]
  },
  {
   "cell_type": "markdown",
   "metadata": {},
   "source": [
    "Connect the HDMI_IN to L0 and L0 to VDMA and VDMA to HDMI_OUT"
   ]
  },
  {
   "cell_type": "code",
   "execution_count": null,
   "metadata": {},
   "outputs": [],
   "source": [
    "pr_inst.connect(\"HDMI_IN\",\"L0\")\n",
    "pr_inst.connect(\"L0\",\"VDMA\")\n",
    "pr_inst.connect(\"VDMA\",\"HDMI_OUT\")\n",
    "PartialBitstream(\"image_l0.bit\").download()"
   ]
  },
  {
   "cell_type": "code",
   "execution_count": null,
   "metadata": {},
   "outputs": [],
   "source": [
    "import PIL.Image\n",
    "import cv2\n",
    "frame = hdmi_in.readframe()\n",
    "frame = cv2.cvtColor(frame,cv2.COLOR_BGR2RGB)\n",
    "image = PIL.Image.fromarray(frame)\n",
    "image"
   ]
  },
  {
   "cell_type": "markdown",
   "metadata": {},
   "source": [
    "Now we can change the settings of the sobel filter\n",
    "#### Image Overlay Settings ####\n",
    "* 0 Set X Offset\n",
    "* 1 Set Y Offset\n",
    "* 2 Set Width\n",
    "* 3 Set Height\n",
    "* 4 Write Pixel & increment write index\n",
    "* 5 Set Write Index\n",
    "* 6 Set Transparent Color\n",
    "\n",
    "\n",
    "pr_inst.filter_cmd(\"filter name\",cmd,data)"
   ]
  },
  {
   "cell_type": "markdown",
   "metadata": {},
   "source": [
    "[256 Colors](http://www.calmar.ws/vim/256-xterm-24bit-rgb-color-chart.html)"
   ]
  },
  {
   "cell_type": "markdown",
   "metadata": {},
   "source": [
    "Try out different images"
   ]
  },
  {
   "cell_type": "code",
   "execution_count": null,
   "metadata": {},
   "outputs": [],
   "source": [
    "pr_inst.filter_cmd(\"L0\",0,400)\n",
    "pr_inst.filter_cmd(\"L0\",1,300)\n",
    "pr_inst.filter_cmd(\"L0\",6,0)\n",
    "pr_inst.filter_cmd(\"L0\",5,0)\n",
    "filename = \"./BYU_Stretch_Y.bin\"\n",
    "with open(filename, \"rb\") as f:\n",
    "    width = f.read(1)\n",
    "    height = f.read(1)\n",
    "    num_pixels = width[0]*height[0]\n",
    "    for i in range(0, num_pixels):\n",
    "            byte = f.read(1)\n",
    "            x = byte[0];\n",
    "            pr_inst.filter_cmd(\"L0\",4,x)"
   ]
  },
  {
   "cell_type": "code",
   "execution_count": null,
   "metadata": {},
   "outputs": [],
   "source": [
    "import PIL.Image\n",
    "import cv2\n",
    "frame = hdmi_in.readframe()\n",
    "frame = cv2.cvtColor(frame,cv2.COLOR_BGR2RGB)\n",
    "image = PIL.Image.fromarray(frame)\n",
    "image"
   ]
  },
  {
   "cell_type": "code",
   "execution_count": null,
   "metadata": {},
   "outputs": [],
   "source": [
    "pr_inst.filter_cmd(\"L0\",0,1700)\n",
    "pr_inst.filter_cmd(\"L0\",1,860)\n",
    "pr_inst.filter_cmd(\"L0\",6,0)\n",
    "pr_inst.filter_cmd(\"L0\",5,0)\n",
    "filename = \"./cougar_256.bin\"\n",
    "with open(filename, \"rb\") as f:\n",
    "    width = f.read(1)\n",
    "    height = f.read(1)\n",
    "    num_pixels = width[0]*height[0]\n",
    "    for i in range(0, num_pixels):\n",
    "            byte = f.read(1)\n",
    "            x = byte[0];\n",
    "            pr_inst.filter_cmd(\"L0\",4,x)"
   ]
  },
  {
   "cell_type": "code",
   "execution_count": null,
   "metadata": {},
   "outputs": [],
   "source": [
    "import PIL.Image\n",
    "import cv2\n",
    "frame = hdmi_in.readframe()\n",
    "frame = cv2.cvtColor(frame,cv2.COLOR_BGR2RGB)\n",
    "image = PIL.Image.fromarray(frame)\n",
    "image"
   ]
  },
  {
   "cell_type": "code",
   "execution_count": null,
   "metadata": {},
   "outputs": [],
   "source": [
    "pr_inst.filter_cmd(\"L0\",0,400)\n",
    "pr_inst.filter_cmd(\"L0\",1,400)\n",
    "pr_inst.filter_cmd(\"L0\",6,0)\n",
    "pr_inst.filter_cmd(\"L0\",5,0)\n",
    "filename = \"./medallion_256.bin\"\n",
    "with open(filename, \"rb\") as f:\n",
    "    width = f.read(1)\n",
    "    height = f.read(1)\n",
    "    num_pixels = width[0]*height[0]\n",
    "    for i in range(0, num_pixels):\n",
    "            byte = f.read(1)\n",
    "            x = byte[0];\n",
    "            pr_inst.filter_cmd(\"L0\",4,x)"
   ]
  },
  {
   "cell_type": "code",
   "execution_count": null,
   "metadata": {},
   "outputs": [],
   "source": [
    "import PIL.Image\n",
    "import cv2\n",
    "frame = hdmi_in.readframe()\n",
    "frame = cv2.cvtColor(frame,cv2.COLOR_BGR2RGB)\n",
    "image = PIL.Image.fromarray(frame)\n",
    "image"
   ]
  },
  {
   "cell_type": "code",
   "execution_count": null,
   "metadata": {},
   "outputs": [],
   "source": [
    "hdmi_out.close()\n",
    "hdmi_in.close()"
   ]
  }
 ],
 "metadata": {
  "kernelspec": {
   "display_name": "Python 3",
   "language": "python",
   "name": "python3"
  },
  "language_info": {
   "codemirror_mode": {
    "name": "ipython",
    "version": 3
   },
   "file_extension": ".py",
   "mimetype": "text/x-python",
   "name": "python",
   "nbconvert_exporter": "python",
   "pygments_lexer": "ipython3",
   "version": "3.6.0"
  }
 },
 "nbformat": 4,
 "nbformat_minor": 2
}
