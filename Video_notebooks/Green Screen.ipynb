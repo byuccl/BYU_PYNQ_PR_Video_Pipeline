{
 "cells": [
  {
   "cell_type": "markdown",
   "metadata": {},
   "source": [
    "#  Green Screen #"
   ]
  },
  {
   "cell_type": "markdown",
   "metadata": {},
   "source": [
    "This is a Green Screen for two inputs.\n",
    "\n"
   ]
  },
  {
   "cell_type": "markdown",
   "metadata": {},
   "source": [
    "First you download the bit file."
   ]
  },
  {
   "cell_type": "code",
   "execution_count": null,
   "metadata": {},
   "outputs": [],
   "source": [
    "from pynq.overlays.video import *\n",
    "from pynq.lib.video import *\n",
    "\n",
    "base = VideoOverlay(\"video.bit\")\n",
    "hdmi_in = base.video.hdmi_in\n",
    "hdmi_out = base.video.hdmi_out"
   ]
  },
  {
   "cell_type": "markdown",
   "metadata": {},
   "source": [
    "Then start up the PRControl, the video will not work otherwise. It initailzes the Video Axi Switch so HDMI runs through the VDMA."
   ]
  },
  {
   "cell_type": "code",
   "execution_count": null,
   "metadata": {},
   "outputs": [],
   "source": [
    "from pynq.overlays.video import PRControl\n",
    "pr_inst = PRControl()"
   ]
  },
  {
   "cell_type": "markdown",
   "metadata": {},
   "source": [
    "The best video sources are computers where you can control the resoltuion."
   ]
  },
  {
   "cell_type": "code",
   "execution_count": null,
   "metadata": {},
   "outputs": [],
   "source": [
    "hdmi_in.configure()\n",
    "hdmi_out.configure(hdmi_in.mode,PIXEL_BGR)\n",
    "hdmi_out.start()\n",
    "hdmi_in.start()\n",
    "hdmi_in.tie(hdmi_out)"
   ]
  },
  {
   "cell_type": "markdown",
   "metadata": {},
   "source": [
    "Here is a frame in VDMA."
   ]
  },
  {
   "cell_type": "code",
   "execution_count": null,
   "metadata": {
    "scrolled": true
   },
   "outputs": [],
   "source": [
    "import PIL.Image\n",
    "import cv2\n",
    "frame = hdmi_in.readframe()\n",
    "frame = cv2.cvtColor(frame,cv2.COLOR_BGR2RGB)\n",
    "image = PIL.Image.fromarray(frame)\n",
    "image"
   ]
  },
  {
   "cell_type": "markdown",
   "metadata": {},
   "source": [
    "The bitfile starts with the mux pr regions with two inputs(A,B) and a duplicated output (1,2) with the Green Screen filter preloaded."
   ]
  },
  {
   "cell_type": "markdown",
   "metadata": {},
   "source": [
    "Connect the HDMI_IN to input A (MUX_A) and VDMA to input B (MUX_B) and the first output (MUX_1) to HDMI_OUT"
   ]
  },
  {
   "cell_type": "code",
   "execution_count": null,
   "metadata": {},
   "outputs": [],
   "source": [
    "pr_inst.connect(\"HDMI_IN\",\"MUX_A\")\n",
    "pr_inst.connect(\"VDMA\",\"MUX_B\")\n",
    "pr_inst.connect(\"MUX_1\",\"HDMI_OUT\")"
   ]
  },
  {
   "cell_type": "markdown",
   "metadata": {},
   "source": [
    "The Mux has two outputs, but one is only enabled at the moment.  To enable the other output you need to do these commands:"
   ]
  },
  {
   "cell_type": "code",
   "execution_count": null,
   "metadata": {},
   "outputs": [],
   "source": [
    "pr_inst.filter_cmd(\"MUX\",7,1)\n",
    "pr_inst.connect(\"MUX_2\",\"VDMA\")"
   ]
  },
  {
   "cell_type": "markdown",
   "metadata": {},
   "source": [
    "Load in a background image"
   ]
  },
  {
   "cell_type": "code",
   "execution_count": null,
   "metadata": {},
   "outputs": [],
   "source": [
    "import PIL.Image\n",
    "import cv2\n",
    "wid = hdmi_out.mode.width\n",
    "hig = hdmi_out.mode.height\n",
    "test = cv2.imread('background.jpg',1);\n",
    "\n",
    "outframe = hdmi_out.newframe()\n",
    "outframe[0:hig,0:wid] = test[0:hig,0:wid,:]\n",
    "\n",
    "hdmi_out.writeframe(outframe)"
   ]
  },
  {
   "cell_type": "code",
   "execution_count": null,
   "metadata": {},
   "outputs": [],
   "source": [
    "import PIL.Image\n",
    "import cv2\n",
    "frame = hdmi_in.readframe()\n",
    "frame = cv2.cvtColor(frame,cv2.COLOR_BGR2RGB)\n",
    "image = PIL.Image.fromarray(frame)\n",
    "image"
   ]
  },
  {
   "cell_type": "markdown",
   "metadata": {},
   "source": [
    "We need to change the settings to allow the foreground to show\n",
    "#### Green Screen Settings####\n",
    "* 0 Set Red lower bound\n",
    "* 1 Set Red upper bound\n",
    "* 2 Set Green lower bound\n",
    "* 3 Set Green upper bound\n",
    "* 4 Set Blue lower bound\n",
    "* 5 Set Blue upper bound\n",
    "* 6 Set Input A as Foreground (Default is 1)\n",
    "* 7 Use both outputs (Default is 0) This must be correct or the Axi-Stream pipeline may not work.\n",
    "\n",
    "pr_inst.filter_cmd(\"filter name\",cmd,data)"
   ]
  },
  {
   "cell_type": "code",
   "execution_count": null,
   "metadata": {},
   "outputs": [],
   "source": [
    "pr_inst.filter_cmd(\"MUX\",1,50)\n",
    "pr_inst.filter_cmd(\"MUX\",3,50)\n",
    "pr_inst.filter_cmd(\"MUX\",5,50)"
   ]
  },
  {
   "cell_type": "code",
   "execution_count": null,
   "metadata": {},
   "outputs": [],
   "source": [
    "import PIL.Image\n",
    "import cv2\n",
    "frame = hdmi_in.readframe()\n",
    "frame = cv2.cvtColor(frame,cv2.COLOR_BGR2RGB)\n",
    "image = PIL.Image.fromarray(frame)\n",
    "image"
   ]
  },
  {
   "cell_type": "markdown",
   "metadata": {},
   "source": [
    "Lets use a Widget to make this easier."
   ]
  },
  {
   "cell_type": "code",
   "execution_count": null,
   "metadata": {},
   "outputs": [],
   "source": [
    "import ipywidgets as widgets\n",
    "from IPython.display import HTML, display\n",
    "\n",
    "Red_IRS = widgets.IntRangeSlider(\n",
    "    value=[0, 128],\n",
    "    min=0,\n",
    "    max=255,\n",
    "    step=1,\n",
    "    description='Valid Red:',\n",
    "    disabled=False,\n",
    "    continuous_update=True,\n",
    "    orientation='horizontal',\n",
    "    readout=True,\n",
    "    readout_format='d',\n",
    ")\n",
    "\n",
    "def update_red(*args):\n",
    "    Red = (Red_IRS.value)\n",
    "    pr_inst.filter_cmd(\"MUX\",0,Red[0])\n",
    "    pr_inst.filter_cmd(\"MUX\",1,Red[1])\n",
    "\n",
    "Red_IRS.observe(update_red, 'value')\n",
    "\n",
    "Green_IRS = widgets.IntRangeSlider(\n",
    "    value=[128, 255],\n",
    "    min=0,\n",
    "    max=255,\n",
    "    step=1,\n",
    "    description='Valid Green:',\n",
    "    disabled=False,\n",
    "    continuous_update=True,\n",
    "    orientation='horizontal',\n",
    "    readout=True,\n",
    "    readout_format='d',\n",
    ")\n",
    "\n",
    "def update_green(*args):\n",
    "    Green = (Green_IRS.value)\n",
    "    pr_inst.filter_cmd(\"MUX\",2,Green[0])\n",
    "    pr_inst.filter_cmd(\"MUX\",3,Green[1])\n",
    "    #print \"green hi: %d, green lo: %d\" % (Green[0], Green [1])\n",
    "Green_IRS.observe(update_green, 'value')\n",
    "\n",
    "Blue_IRS = widgets.IntRangeSlider(\n",
    "    value=[0, 128],\n",
    "    min=0,\n",
    "    max=255,\n",
    "    step=1,\n",
    "    description='Valid Blue:',\n",
    "    disabled=False,\n",
    "    continuous_update=True,\n",
    "    orientation='horizontal',\n",
    "    readout=True,\n",
    "    readout_format='d',\n",
    ")\n",
    "\n",
    "def update_blue(*args):\n",
    "    Blue = (Blue_IRS.value)\n",
    "    pr_inst.filter_cmd(\"MUX\",4,Blue[0])\n",
    "    pr_inst.filter_cmd(\"MUX\",5,Blue[1])\n",
    "Blue_IRS.observe(update_blue, 'value')\n",
    "\n",
    "widgets.VBox([Red_IRS, Green_IRS, Blue_IRS])"
   ]
  },
  {
   "cell_type": "markdown",
   "metadata": {},
   "source": [
    "Save the Frame"
   ]
  },
  {
   "cell_type": "code",
   "execution_count": null,
   "metadata": {},
   "outputs": [],
   "source": [
    "import PIL.Image\n",
    "import cv2\n",
    "frame = hdmi_in.readframe()\n",
    "frame = cv2.cvtColor(frame,cv2.COLOR_BGR2RGB)\n",
    "image = PIL.Image.fromarray(frame)\n",
    "image"
   ]
  },
  {
   "cell_type": "code",
   "execution_count": null,
   "metadata": {},
   "outputs": [],
   "source": [
    "hdmi_out.close()\n",
    "hdmi_in.close()"
   ]
  }
 ],
 "metadata": {
  "kernelspec": {
   "display_name": "Python 3",
   "language": "python",
   "name": "python3"
  },
  "language_info": {
   "codemirror_mode": {
    "name": "ipython",
    "version": 3
   },
   "file_extension": ".py",
   "mimetype": "text/x-python",
   "name": "python",
   "nbconvert_exporter": "python",
   "pygments_lexer": "ipython3",
   "version": "3.6.0"
  }
 },
 "nbformat": 4,
 "nbformat_minor": 2
}
