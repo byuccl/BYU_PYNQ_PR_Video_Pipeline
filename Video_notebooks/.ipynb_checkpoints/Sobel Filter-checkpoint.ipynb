{
 "cells": [
  {
   "cell_type": "markdown",
   "metadata": {},
   "source": [
    "# Sobel Filter #"
   ]
  },
  {
   "cell_type": "markdown",
   "metadata": {},
   "source": [
    "This is a 3x3 Sobel filter that uses two kernels, Sobel top and Sobel left\n",
    "\n"
   ]
  },
  {
   "cell_type": "markdown",
   "metadata": {},
   "source": [
    "First you download the bit file."
   ]
  },
  {
   "cell_type": "code",
   "execution_count": null,
   "metadata": {},
   "outputs": [],
   "source": [
    "from pynq.overlays.video import VideoOverlay\n",
    "from pynq.lib.video import *\n",
    "\n",
    "base = VideoOverlay(\"video.bit\")\n",
    "hdmi_in = base.video.hdmi_in\n",
    "hdmi_out = base.video.hdmi_out"
   ]
  },
  {
   "cell_type": "markdown",
   "metadata": {},
   "source": [
    "Then start up the PRControl, the video will not work otherwise. It initailzes the Video Axi Switch so HDMI runs through the VDMA."
   ]
  },
  {
   "cell_type": "code",
   "execution_count": null,
   "metadata": {},
   "outputs": [],
   "source": [
    "from pynq.overlays.video import PRControl\n",
    "pr_inst = PRControl()"
   ]
  },
  {
   "cell_type": "markdown",
   "metadata": {},
   "source": [
    "The best video sources are computers where you can control the resoltuion."
   ]
  },
  {
   "cell_type": "code",
   "execution_count": null,
   "metadata": {},
   "outputs": [],
   "source": [
    "hdmi_in.configure()\n",
    "hdmi_out.configure(hdmi_in.mode,PIXEL_BGR)\n",
    "hdmi_out.start()\n",
    "hdmi_in.start()\n",
    "hdmi_in.tie(hdmi_out)"
   ]
  },
  {
   "cell_type": "markdown",
   "metadata": {},
   "source": [
    "Here is a frame in VDMA."
   ]
  },
  {
   "cell_type": "code",
   "execution_count": null,
   "metadata": {},
   "outputs": [],
   "source": [
    "import PIL.Image\n",
    "import cv2\n",
    "frame = hdmi_in.readframe()\n",
    "frame = cv2.cvtColor(frame,cv2.COLOR_BGR2RGB)\n",
    "image = PIL.Image.fromarray(frame)\n",
    "image"
   ]
  },
  {
   "cell_type": "markdown",
   "metadata": {},
   "source": [
    "The bitfile starts with the three medium pr regions (M0,...,M2) with the Sobel filter preloaded."
   ]
  },
  {
   "cell_type": "markdown",
   "metadata": {},
   "source": [
    "Connect the HDMI_IN to M0 and M0 to VDMA and VDMA to HDMI_OUT"
   ]
  },
  {
   "cell_type": "code",
   "execution_count": null,
   "metadata": {},
   "outputs": [],
   "source": [
    "pr_inst.connect(\"HDMI_IN\",\"M0\")\n",
    "pr_inst.connect(\"M0\",\"VDMA\")\n",
    "pr_inst.connect(\"VDMA\",\"HDMI_OUT\")"
   ]
  },
  {
   "cell_type": "code",
   "execution_count": null,
   "metadata": {},
   "outputs": [],
   "source": [
    "import PIL.Image\n",
    "import cv2\n",
    "frame = hdmi_in.readframe()\n",
    "frame = cv2.cvtColor(frame,cv2.COLOR_BGR2RGB)\n",
    "image = PIL.Image.fromarray(frame)\n",
    "image"
   ]
  },
  {
   "cell_type": "markdown",
   "metadata": {},
   "source": [
    "Now we can change the settings of the sobel filter\n",
    "#### Sobel Filter Settings ####\n",
    "* 0 Set Sobel Output Shift Value (Default is 1)\n",
    "* 1 Set Sobel Kernel Weight\n",
    "* 2 Set Sobel Output Lower limit (Round to white)\n",
    "* 3 Set Sobel Output Upper limit (Round to Black)\n",
    "\n",
    "\n",
    "pr_inst.filter_cmd(\"filter name\",cmd,data)"
   ]
  },
  {
   "cell_type": "code",
   "execution_count": null,
   "metadata": {},
   "outputs": [],
   "source": [
    "pr_inst.filter_cmd(\"M0\",1,4)"
   ]
  },
  {
   "cell_type": "code",
   "execution_count": null,
   "metadata": {},
   "outputs": [],
   "source": [
    "import PIL.Image\n",
    "import cv2\n",
    "frame = hdmi_in.readframe()\n",
    "frame = cv2.cvtColor(frame,cv2.COLOR_BGR2RGB)\n",
    "image = PIL.Image.fromarray(frame)\n",
    "image"
   ]
  },
  {
   "cell_type": "markdown",
   "metadata": {},
   "source": [
    "Lets try it in a different filter and Reconfigure the Axi Switch"
   ]
  },
  {
   "cell_type": "code",
   "execution_count": null,
   "metadata": {},
   "outputs": [],
   "source": [
    "pr_inst.connect(\"HDMI_IN\",\"L0\")\n",
    "pr_inst.connect(\"L0\",\"VDMA\")\n",
    "pr_inst.connect(\"VDMA\",\"HDMI_OUT\")"
   ]
  },
  {
   "cell_type": "markdown",
   "metadata": {},
   "source": [
    "Load the \"ascii_l0.bit\" Partial Bitfile "
   ]
  },
  {
   "cell_type": "code",
   "execution_count": null,
   "metadata": {},
   "outputs": [],
   "source": [
    "PartialBitstream(\"sobel_l0.bit\").download()"
   ]
  },
  {
   "cell_type": "code",
   "execution_count": null,
   "metadata": {},
   "outputs": [],
   "source": [
    "import PIL.Image\n",
    "import cv2\n",
    "frame = hdmi_in.readframe()\n",
    "frame = cv2.cvtColor(frame,cv2.COLOR_BGR2RGB)\n",
    "image = PIL.Image.fromarray(frame)\n",
    "image"
   ]
  },
  {
   "cell_type": "code",
   "execution_count": null,
   "metadata": {},
   "outputs": [],
   "source": [
    "hdmi_out.close()\n",
    "hdmi_in.close()"
   ]
  }
 ],
 "metadata": {
  "kernelspec": {
   "display_name": "Python 3",
   "language": "python",
   "name": "python3"
  },
  "language_info": {
   "codemirror_mode": {
    "name": "ipython",
    "version": 3
   },
   "file_extension": ".py",
   "mimetype": "text/x-python",
   "name": "python",
   "nbconvert_exporter": "python",
   "pygments_lexer": "ipython3",
   "version": "3.6.0"
  }
 },
 "nbformat": 4,
 "nbformat_minor": 2
}
