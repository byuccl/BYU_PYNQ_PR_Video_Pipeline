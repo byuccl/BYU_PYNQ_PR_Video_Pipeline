{
 "cells": [
  {
   "cell_type": "markdown",
   "metadata": {},
   "source": [
    "# ASCII Text Overlay #"
   ]
  },
  {
   "cell_type": "markdown",
   "metadata": {},
   "source": [
    "This is a simple overlay that adds a text overlay to the screen.\n",
    "\n"
   ]
  },
  {
   "cell_type": "markdown",
   "metadata": {},
   "source": [
    "First you download the bit file."
   ]
  },
  {
   "cell_type": "code",
   "execution_count": null,
   "metadata": {},
   "outputs": [],
   "source": [
    "from pynq.overlays.video import VideoOverlay\n",
    "from pynq.lib.video import *\n",
    "\n",
    "base = VideoOverlay(\"video.bit\")\n",
    "hdmi_in = base.video.hdmi_in\n",
    "hdmi_out = base.video.hdmi_out"
   ]
  },
  {
   "cell_type": "markdown",
   "metadata": {},
   "source": [
    "Then start up the PRControl, the video will not work otherwise. It initailzes the Video Axi Switch so HDMI runs through the VDMA."
   ]
  },
  {
   "cell_type": "code",
   "execution_count": null,
   "metadata": {},
   "outputs": [],
   "source": [
    "from pynq.overlays.video import PRControl\n",
    "pr_inst = PRControl()"
   ]
  },
  {
   "cell_type": "markdown",
   "metadata": {},
   "source": [
    "The best video sources are computers where you can control the resoltuion."
   ]
  },
  {
   "cell_type": "code",
   "execution_count": null,
   "metadata": {},
   "outputs": [],
   "source": [
    "hdmi_in.configure()\n",
    "hdmi_out.configure(hdmi_in.mode,PIXEL_BGR)\n",
    "hdmi_out.start()\n",
    "hdmi_in.start()\n",
    "hdmi_in.tie(hdmi_out)"
   ]
  },
  {
   "cell_type": "markdown",
   "metadata": {},
   "source": [
    "Here is a frame in VDMA."
   ]
  },
  {
   "cell_type": "code",
   "execution_count": null,
   "metadata": {},
   "outputs": [],
   "source": [
    "import PIL.Image\n",
    "import cv2\n",
    "frame = hdmi_in.readframe()\n",
    "frame = cv2.cvtColor(frame,cv2.COLOR_BGR2RGB)\n",
    "image = PIL.Image.fromarray(frame)\n",
    "image"
   ]
  },
  {
   "cell_type": "markdown",
   "metadata": {},
   "source": [
    "The bitfile starts with the six small pr regions (S0,...,S5) with the ASCII filter preloaded."
   ]
  },
  {
   "cell_type": "markdown",
   "metadata": {},
   "source": [
    "Connect the HDMI_IN to S0 and S0 to VDMA and VDMA to HDMI_OUT"
   ]
  },
  {
   "cell_type": "code",
   "execution_count": null,
   "metadata": {},
   "outputs": [],
   "source": [
    "pr_inst.connect(\"HDMI_IN\",\"S0\")\n",
    "pr_inst.connect(\"S0\",\"VDMA\")\n",
    "pr_inst.connect(\"VDMA\",\"HDMI_OUT\")"
   ]
  },
  {
   "cell_type": "markdown",
   "metadata": {},
   "source": [
    "Now we need to load a string into the filter\n",
    "#### ASCII FILTER SETTING ####\n",
    "* 0 Set X Offset\n",
    "* 1 Set Y Offset\n",
    "* 2 Set Color\n",
    "* 3 Set Font Size\n",
    "* 4 Write Char & increment write index\n",
    "* 5 Set Write Index\n",
    "* 6 Set Str Size\n",
    "\n",
    "pr_inst.filter_cmd(\"filter name\",cmd,data)"
   ]
  },
  {
   "cell_type": "code",
   "execution_count": null,
   "metadata": {},
   "outputs": [],
   "source": [
    "pr_inst.filter_cmd(\"S0\",3,4)\n",
    "test_str = \"Hello World\"\n",
    "pr_inst.filter_cmd(\"S0\",6,len(test_str))\n",
    "pr_inst.filter_cmd(\"S0\",5,0)\n",
    "for char in test_str:\n",
    "    pr_inst.filter_cmd(\"S0\",4,ord(char))"
   ]
  },
  {
   "cell_type": "code",
   "execution_count": null,
   "metadata": {},
   "outputs": [],
   "source": [
    "import PIL.Image\n",
    "import cv2\n",
    "frame = hdmi_in.readframe()\n",
    "frame = cv2.cvtColor(frame,cv2.COLOR_BGR2RGB)\n",
    "image = PIL.Image.fromarray(frame)\n",
    "image"
   ]
  },
  {
   "cell_type": "markdown",
   "metadata": {},
   "source": [
    "Lets try it in a different filter"
   ]
  },
  {
   "cell_type": "markdown",
   "metadata": {},
   "source": [
    "Load the \"ascii_l0.bit\" Partial Bitfile "
   ]
  },
  {
   "cell_type": "code",
   "execution_count": null,
   "metadata": {},
   "outputs": [],
   "source": [
    "from pynq.overlays.video import *\n",
    "PartialBitstream(\"ascii_l0.bit\").download()"
   ]
  },
  {
   "cell_type": "markdown",
   "metadata": {},
   "source": [
    "Reconfigure the Axi Switch"
   ]
  },
  {
   "cell_type": "code",
   "execution_count": null,
   "metadata": {},
   "outputs": [],
   "source": [
    "pr_inst.connect(\"HDMI_IN\",\"L0\")\n",
    "pr_inst.connect(\"L0\",\"VDMA\")\n",
    "pr_inst.connect(\"VDMA\",\"HDMI_OUT\")\n",
    "\n",
    "pr_inst.filter_cmd(\"L0\",3,4)\n",
    "test_str = \"This is a different filter\"\n",
    "pr_inst.filter_cmd(\"L0\",6,len(test_str))\n",
    "pr_inst.filter_cmd(\"L0\",5,0)\n",
    "for char in test_str:\n",
    "    pr_inst.filter_cmd(\"L0\",4,ord(char))"
   ]
  },
  {
   "cell_type": "code",
   "execution_count": null,
   "metadata": {},
   "outputs": [],
   "source": [
    "import PIL.Image\n",
    "import cv2\n",
    "frame = hdmi_in.readframe()\n",
    "frame = cv2.cvtColor(frame,cv2.COLOR_BGR2RGB)\n",
    "image = PIL.Image.fromarray(frame)\n",
    "image"
   ]
  },
  {
   "cell_type": "code",
   "execution_count": null,
   "metadata": {},
   "outputs": [],
   "source": [
    "hdmi_out.close()\n",
    "hdmi_in.close()"
   ]
  }
 ],
 "metadata": {
  "kernelspec": {
   "display_name": "Python 3",
   "language": "python",
   "name": "python3"
  },
  "language_info": {
   "codemirror_mode": {
    "name": "ipython",
    "version": 3
   },
   "file_extension": ".py",
   "mimetype": "text/x-python",
   "name": "python",
   "nbconvert_exporter": "python",
   "pygments_lexer": "ipython3",
   "version": "3.6.0"
  }
 },
 "nbformat": 4,
 "nbformat_minor": 2
}
