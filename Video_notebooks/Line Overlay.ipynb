{
 "cells": [
  {
   "cell_type": "markdown",
   "metadata": {},
   "source": [
    "# Line Overlay#"
   ]
  },
  {
   "cell_type": "markdown",
   "metadata": {},
   "source": [
    "This is a Line Overlay\n"
   ]
  },
  {
   "cell_type": "markdown",
   "metadata": {},
   "source": [
    "First you download the bit file."
   ]
  },
  {
   "cell_type": "code",
   "execution_count": null,
   "metadata": {},
   "outputs": [],
   "source": [
    "from pynq.overlays.video import *\n",
    "from pynq.lib.video import *\n",
    "\n",
    "base = VideoOverlay(\"video.bit\")\n",
    "hdmi_in = base.video.hdmi_in\n",
    "hdmi_out = base.video.hdmi_out"
   ]
  },
  {
   "cell_type": "markdown",
   "metadata": {},
   "source": [
    "Then start up the PRControl, the video will not work otherwise. It initailzes the Video Axi Switch so HDMI runs through the VDMA."
   ]
  },
  {
   "cell_type": "code",
   "execution_count": null,
   "metadata": {},
   "outputs": [],
   "source": [
    "from pynq.overlays.video import PRControl\n",
    "pr_inst = PRControl()"
   ]
  },
  {
   "cell_type": "markdown",
   "metadata": {},
   "source": [
    "The best video sources are computers where you can control the resoltuion."
   ]
  },
  {
   "cell_type": "code",
   "execution_count": null,
   "metadata": {},
   "outputs": [],
   "source": [
    "hdmi_in.configure()\n",
    "hdmi_out.configure(hdmi_in.mode,PIXEL_BGR)\n",
    "hdmi_out.start()\n",
    "hdmi_in.start()\n",
    "hdmi_in.tie(hdmi_out)"
   ]
  },
  {
   "cell_type": "markdown",
   "metadata": {},
   "source": [
    "Here is a frame in VDMA."
   ]
  },
  {
   "cell_type": "code",
   "execution_count": null,
   "metadata": {},
   "outputs": [],
   "source": [
    "import PIL.Image\n",
    "import cv2\n",
    "frame = hdmi_in.readframe()\n",
    "frame = cv2.cvtColor(frame,cv2.COLOR_BGR2RGB)\n",
    "image = PIL.Image.fromarray(frame)\n",
    "image"
   ]
  },
  {
   "cell_type": "markdown",
   "metadata": {},
   "source": [
    "The Line Filter has to be loaded in. In can fit into L0,M0,M1,M2,S0,S1,S2,S3,S4,S5"
   ]
  },
  {
   "cell_type": "markdown",
   "metadata": {},
   "source": [
    "Connect the HDMI_IN to L0 and L0 to VDMA and VDMA to HDMI_OUT"
   ]
  },
  {
   "cell_type": "code",
   "execution_count": null,
   "metadata": {},
   "outputs": [],
   "source": [
    "pr_inst.connect(\"HDMI_IN\",\"L0\")\n",
    "pr_inst.connect(\"L0\",\"VDMA\")\n",
    "pr_inst.connect(\"VDMA\",\"HDMI_OUT\")\n"
   ]
  },
  {
   "cell_type": "code",
   "execution_count": null,
   "metadata": {},
   "outputs": [],
   "source": [
    "PartialBitstream(\"lines_l0.bit\").download()"
   ]
  },
  {
   "cell_type": "code",
   "execution_count": null,
   "metadata": {},
   "outputs": [],
   "source": [
    "Now we need to load a string into the filter\n",
    "#### JAPANESE Filter Settings ####\n",
    "* 0 Set Red Line X offset\n",
    "* 1 Set Green Line X offset\n",
    "* 2 Set Blue Line Y offset\n",
    "* 3 Set Purple Line Y offset\n",
    "* 4 Set Line Width\n",
    "\n",
    "\n",
    "pr_inst.filter_cmd(\"filter name\",cmd,data)"
   ]
  },
  {
   "cell_type": "code",
   "execution_count": null,
   "metadata": {},
   "outputs": [],
   "source": [
    "import ipywidgets as widgets\n",
    "from ipywidgets import Button, HBox, VBox, Label\n",
    "\n",
    "R0_s = widgets.IntSlider(\n",
    "    value=200,\n",
    "    min=0,\n",
    "    max=1919,\n",
    "    step=1,\n",
    "    description='X1:',\n",
    "    disabled=False,\n",
    "    continuous_update=True,\n",
    "    orientation='vertical',\n",
    "    readout=True,\n",
    "    readout_format='d',\n",
    "    slider_color='red'\n",
    ")\n",
    "R1_s = widgets.IntSlider(\n",
    "    value=1020,\n",
    "    min=0,\n",
    "    max=1919,\n",
    "    step=1,\n",
    "    description='X2:',\n",
    "    disabled=False,\n",
    "    continuous_update=True,\n",
    "    orientation='vertical',\n",
    "    readout=True,\n",
    "    readout_format='d',\n",
    "    slider_color='green'\n",
    ")\n",
    "R2_s = widgets.IntSlider(\n",
    "    value=175,\n",
    "    min=0,\n",
    "    max=1079,\n",
    "    step=1,\n",
    "    description='Y1:',\n",
    "    disabled=False,\n",
    "    continuous_update=True,\n",
    "    orientation='vertical',\n",
    "    readout=True,\n",
    "    readout_format='d',\n",
    "    slider_color='blue'\n",
    ")\n",
    "R3_s = widgets.IntSlider(\n",
    "    value=620,\n",
    "    min=0,\n",
    "    max=1079,\n",
    "    step=1,\n",
    "    description='Y2:',\n",
    "    disabled=False,\n",
    "    continuous_update=True,\n",
    "    orientation='vertical',\n",
    "    readout=True,\n",
    "    readout_format='d',\n",
    "    slider_color='yellow'\n",
    ")\n",
    "R4_s = widgets.IntSlider(\n",
    "    value=3,\n",
    "    min=0,\n",
    "    max=500,\n",
    "    step=1,\n",
    "    description='Width:',\n",
    "    disabled=False,\n",
    "    continuous_update=True,\n",
    "    orientation='vertical',\n",
    "    readout=True,\n",
    "    readout_format='d',\n",
    "    slider_color='purple'\n",
    ")\n",
    "\n",
    "def update_r0(*args):\n",
    "    pr_inst.filter_cmd(\"L0\",1,R0_s.value)\n",
    "R0_s.observe(update_r0, 'value')\n",
    "def update_r1(*args):\n",
    "    pr_inst.filter_cmd(\"L0\",2,R1_s.value)\n",
    "R1_s.observe(update_r1, 'value')\n",
    "def update_r2(*args):\n",
    "    pr_inst.filter_cmd(\"L0\",3,R2_s.value)\n",
    "R2_s.observe(update_r2, 'value')\n",
    "def update_r3(*args):\n",
    "    pr_inst.filter_cmd(\"L0\",4,R3_s.value)\n",
    "R3_s.observe(update_r3, 'value')\n",
    "def update_r4(*args):\n",
    "    pr_inst.filter_cmd(\"L0\",0,R4_s.value)\n",
    "R4_s.observe(update_r4, 'value')\n",
    "\n",
    "\n",
    "widgets.HBox([R0_s,R1_s,R2_s,R3_s,R4_s])"
   ]
  },
  {
   "cell_type": "code",
   "execution_count": null,
   "metadata": {},
   "outputs": [],
   "source": [
    "import PIL.Image\n",
    "import cv2\n",
    "frame = hdmi_in.readframe()\n",
    "frame = cv2.cvtColor(frame,cv2.COLOR_BGR2RGB)\n",
    "image = PIL.Image.fromarray(frame)\n",
    "image"
   ]
  },
  {
   "cell_type": "markdown",
   "metadata": {},
   "source": [
    "Try other filter locations or two Line Filters in a row"
   ]
  },
  {
   "cell_type": "code",
   "execution_count": null,
   "metadata": {},
   "outputs": [],
   "source": [
    "hdmi_out.close()\n",
    "hdmi_in.close()"
   ]
  }
 ],
 "metadata": {
  "kernelspec": {
   "display_name": "Python 3",
   "language": "python",
   "name": "python3"
  },
  "language_info": {
   "codemirror_mode": {
    "name": "ipython",
    "version": 3
   },
   "file_extension": ".py",
   "mimetype": "text/x-python",
   "name": "python",
   "nbconvert_exporter": "python",
   "pygments_lexer": "ipython3",
   "version": "3.6.0"
  }
 },
 "nbformat": 4,
 "nbformat_minor": 2
}
