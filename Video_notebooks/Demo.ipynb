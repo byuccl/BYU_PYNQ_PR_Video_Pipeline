{
 "cells": [
  {
   "cell_type": "code",
   "execution_count": null,
   "metadata": {},
   "outputs": [],
   "source": [
    "from pynq.overlays.video import *\n",
    "from pynq.lib.video import *\n",
    "\n",
    "base = VideoOverlay(\"video.bit\")\n",
    "hdmi_in = base.video.hdmi_in\n",
    "hdmi_out = base.video.hdmi_out\n",
    "from pynq.overlays.video import PRControl\n",
    "pr_inst = PRControl()"
   ]
  },
  {
   "cell_type": "code",
   "execution_count": null,
   "metadata": {},
   "outputs": [],
   "source": [
    "hdmi_in.configure()\n",
    "hdmi_out.configure(hdmi_in.mode,PIXEL_BGR)\n",
    "hdmi_out.start()\n",
    "hdmi_in.start()\n",
    "hdmi_in.tie(hdmi_out)"
   ]
  },
  {
   "cell_type": "code",
   "execution_count": null,
   "metadata": {},
   "outputs": [],
   "source": [
    "pr_inst.connect(\"HDMI_IN\",\"MUX_A\")\n",
    "pr_inst.connect(\"VDMA\",\"MUX_B\")\n",
    "pr_inst.connect(\"MUX_1\",\"HDMI_OUT\")"
   ]
  },
  {
   "cell_type": "code",
   "execution_count": null,
   "metadata": {},
   "outputs": [],
   "source": [
    "import PIL.Image\n",
    "import cv2\n",
    "wid = hdmi_out.mode.width\n",
    "hig = hdmi_out.mode.height\n",
    "test = cv2.imread('background.jpg',1);\n",
    "\n",
    "outframe = hdmi_out.newframe()\n",
    "outframe[0:hig,0:wid] = test[0:hig,0:wid,:]\n",
    "\n",
    "hdmi_out.writeframe(outframe)"
   ]
  },
  {
   "cell_type": "code",
   "execution_count": null,
   "metadata": {},
   "outputs": [],
   "source": [
    "import ipywidgets as widgets\n",
    "from IPython.display import HTML, display\n",
    "\n",
    "Red_IRS = widgets.IntRangeSlider(\n",
    "    value=[0, 128],\n",
    "    min=0,\n",
    "    max=255,\n",
    "    step=1,\n",
    "    description='Valid Red:',\n",
    "    disabled=False,\n",
    "    continuous_update=True,\n",
    "    orientation='horizontal',\n",
    "    readout=True,\n",
    "    readout_format='d',\n",
    ")\n",
    "\n",
    "def update_red(*args):\n",
    "    Red = (Red_IRS.value)\n",
    "    pr_inst.filter_cmd(\"MUX\",0,Red[0])\n",
    "    pr_inst.filter_cmd(\"MUX\",1,Red[1])\n",
    "\n",
    "Red_IRS.observe(update_red, 'value')\n",
    "\n",
    "Green_IRS = widgets.IntRangeSlider(\n",
    "    value=[128, 255],\n",
    "    min=0,\n",
    "    max=255,\n",
    "    step=1,\n",
    "    description='Valid Green:',\n",
    "    disabled=False,\n",
    "    continuous_update=True,\n",
    "    orientation='horizontal',\n",
    "    readout=True,\n",
    "    readout_format='d',\n",
    ")\n",
    "\n",
    "def update_green(*args):\n",
    "    Green = (Green_IRS.value)\n",
    "    pr_inst.filter_cmd(\"MUX\",2,Green[0])\n",
    "    pr_inst.filter_cmd(\"MUX\",3,Green[1])\n",
    "    #print \"green hi: %d, green lo: %d\" % (Green[0], Green [1])\n",
    "Green_IRS.observe(update_green, 'value')\n",
    "\n",
    "Blue_IRS = widgets.IntRangeSlider(\n",
    "    value=[0, 128],\n",
    "    min=0,\n",
    "    max=255,\n",
    "    step=1,\n",
    "    description='Valid Blue:',\n",
    "    disabled=False,\n",
    "    continuous_update=True,\n",
    "    orientation='horizontal',\n",
    "    readout=True,\n",
    "    readout_format='d',\n",
    ")\n",
    "\n",
    "def update_blue(*args):\n",
    "    Blue = (Blue_IRS.value)\n",
    "    pr_inst.filter_cmd(\"MUX\",4,Blue[0])\n",
    "    pr_inst.filter_cmd(\"MUX\",5,Blue[1])\n",
    "Blue_IRS.observe(update_blue, 'value')\n",
    "\n",
    "widgets.VBox([Red_IRS, Green_IRS, Blue_IRS])"
   ]
  },
  {
   "cell_type": "code",
   "execution_count": null,
   "metadata": {},
   "outputs": [],
   "source": [
    "pr_inst.connect(\"MUX_1\",\"L0\")\n",
    "pr_inst.connect(\"L0\",\"HDMI_OUT\")\n",
    "PartialBitstream(\"image_l0.bit\").download()"
   ]
  },
  {
   "cell_type": "code",
   "execution_count": null,
   "metadata": {},
   "outputs": [],
   "source": [
    "pr_inst.filter_cmd(\"L0\",0,1700)\n",
    "pr_inst.filter_cmd(\"L0\",1,860)\n",
    "pr_inst.filter_cmd(\"L0\",6,0)\n",
    "pr_inst.filter_cmd(\"L0\",5,0)\n",
    "filename = \"./cougar_256.bin\"\n",
    "with open(filename, \"rb\") as f:\n",
    "    width = f.read(1)\n",
    "    height = f.read(1)\n",
    "    num_pixels = width[0]*height[0]\n",
    "    for i in range(0, num_pixels):\n",
    "            byte = f.read(1)\n",
    "            x = byte[0];\n",
    "            pr_inst.filter_cmd(\"L0\",4,x)"
   ]
  },
  {
   "cell_type": "code",
   "execution_count": null,
   "metadata": {},
   "outputs": [],
   "source": [
    "pr_inst.connect(\"L0\",\"S0\")\n",
    "pr_inst.connect(\"S0\",\"HDMI_OUT\")"
   ]
  },
  {
   "cell_type": "code",
   "execution_count": null,
   "metadata": {},
   "outputs": [],
   "source": [
    "pr_inst.filter_cmd(\"S0\",0,650)\n",
    "pr_inst.filter_cmd(\"S0\",1,30)\n",
    "pr_inst.filter_cmd(\"S0\",3,4)\n",
    "test_str = \"BYU FCCM DEMO 2018\"\n",
    "pr_inst.filter_cmd(\"S0\",6,len(test_str))\n",
    "pr_inst.filter_cmd(\"S0\",5,0)\n",
    "for char in test_str:\n",
    "    pr_inst.filter_cmd(\"S0\",4,ord(char))"
   ]
  },
  {
   "cell_type": "code",
   "execution_count": null,
   "metadata": {},
   "outputs": [],
   "source": [
    "pr_inst.connect(\"S0\",\"S1\")\n",
    "pr_inst.connect(\"S1\",\"HDMI_OUT\")\n",
    "PartialBitstream(\"japanese_s1.bit\").download()"
   ]
  },
  {
   "cell_type": "code",
   "execution_count": null,
   "metadata": {},
   "outputs": [],
   "source": [
    "hirigana = {' ': 0, \n",
    "'a':1,'A':2,'i':3,'I':4,'u': 5, 'U':6,'e':7,'E':8,'o':9,'O':10,\n",
    "'KA':11,'GA':12,'KI':13,'GI':14,'KU':15,'GU':16,'KE':17,'GE':18,'KO':19,'GO':20,\n",
    "'SA':21,'ZA':22,'SI':23,'ZI':24,'SU':25,'ZU':26,'SE':27,'ZE':28,'SO':29,'ZO':30,          \n",
    "'TA':31,'DA':32,'TI':33,'DI':34,'tu':35,'TU':36,'DU':37,'TE':38,'DE':39,'TO':40, 'DO':41,\n",
    "'NA':42,'NI':43,'NU':44,'NE':45,'NO':46,\n",
    "'HA':47,'BA':48,'PA':49 ,\n",
    "'HI':50,'BI':51,'PI':52,\n",
    "'HU':53,'BU':54,'PU':55,\n",
    "'HE':56,'BE':57,'PE':58,\n",
    "'HO':59,'BO':60,'PO':61,\n",
    "'MA':62,'MI':63,'MU':64,'ME':65,'MO':66,\n",
    "'ya':67,'YA':68,'yu':69,'YU':70,'yo':71,'YO':72,\n",
    "'RA':73,'RI':74,'RU':75,'RE':76,'RO':77, \n",
    "'wa':78,'WA':79,'WI':80,'WE':81,'WO':82,\n",
    "'N' :83,'VU':84 }\n",
    "pr_inst.filter_cmd(\"S1\",0,870)\n",
    "pr_inst.filter_cmd(\"S1\",1,1020)\n",
    "pr_inst.filter_cmd(\"S1\",3,6)\n",
    "pr_inst.filter_cmd(\"S1\",6,4)\n",
    "pr_inst.filter_cmd(\"S1\",5,0)\n",
    "pr_inst.filter_cmd(\"S1\",4,hirigana[\"YO\"])\n",
    "pr_inst.filter_cmd(\"S1\",4,hirigana[\"U\"])\n",
    "pr_inst.filter_cmd(\"S1\",4,hirigana[\"KU\"])\n",
    "pr_inst.filter_cmd(\"S1\",4,hirigana[\"SO\"])\n"
   ]
  },
  {
   "cell_type": "code",
   "execution_count": null,
   "metadata": {},
   "outputs": [],
   "source": [
    "pr_inst.connect(\"MUX_1\",\"S2\")\n",
    "pr_inst.connect(\"S2\",\"L0\")\n",
    "\n",
    "PartialBitstream(\"lines_s2.bit\").download()"
   ]
  },
  {
   "cell_type": "code",
   "execution_count": null,
   "metadata": {},
   "outputs": [],
   "source": [
    "pr_inst.filter_cmd(\"S2\",1,0)\n",
    "pr_inst.filter_cmd(\"S2\",2,1920)\n",
    "pr_inst.filter_cmd(\"S2\",3,0)\n",
    "pr_inst.filter_cmd(\"S2\",4,1080)\n",
    "pr_inst.filter_cmd(\"S2\",0,10)"
   ]
  },
  {
   "cell_type": "code",
   "execution_count": null,
   "metadata": {},
   "outputs": [],
   "source": [
    "pr_inst.connect(\"HDMI_IN\",\"M0\")\n",
    "pr_inst.connect(\"M0\",\"MUX_A\")\n",
    "pr_inst.connect(\"VDMA\",\"M1\")\n",
    "pr_inst.connect(\"M1\",\"MUX_B\")\n",
    "pr_inst.connect(\"MUX_1\",\"M2\")\n",
    "pr_inst.connect(\"M2\",\"S2\")\n"
   ]
  },
  {
   "cell_type": "code",
   "execution_count": null,
   "metadata": {},
   "outputs": [],
   "source": [
    "PartialBitstream(\"pass_m0.bit\").download()\n",
    "PartialBitstream(\"pass_m1.bit\").download()\n",
    "PartialBitstream(\"pass_m2.bit\").download()"
   ]
  },
  {
   "cell_type": "code",
   "execution_count": null,
   "metadata": {},
   "outputs": [],
   "source": [
    "pr_inst.connect(\"HDMI_IN\",\"M0\")\n",
    "pr_inst.connect(\"M0\",\"MUX_A\")\n",
    "pr_inst.connect(\"VDMA\",\"M1\")\n",
    "pr_inst.connect(\"M1\",\"MUX_B\")\n",
    "pr_inst.connect(\"MUX_1\",\"M2\")\n",
    "pr_inst.connect(\"M2\",\"S2\")\n",
    "pr_inst.connect(\"S0\",\"S1\")\n",
    "pr_inst.connect(\"L0\",\"S0\")\n",
    "pr_inst.connect(\"S2\",\"L0\")"
   ]
  },
  {
   "cell_type": "code",
   "execution_count": null,
   "metadata": {},
   "outputs": [],
   "source": [
    "from IPython.display import clear_output\n",
    "from ipywidgets import Button, HBox, VBox, Label\n",
    "\n",
    "words = ['Background1','Background2', 'Background3',\n",
    "         'Pass A', 'Pass B','Pass C',\n",
    "         'Dilate A','Dilate B','Dilate C',\n",
    "         'Emboss A','Emboss B','Emboss C',\n",
    "         'Erode A','Erode B','Erode C',\n",
    "         'Grayscale A','Grayscale B','Grayscale C',\n",
    "         'Invert A','Invert B','Invert C',\n",
    "         'Sharpen A','Sharpen B','Sharpen C',\n",
    "         'Outline A','Outline B','Outline C',\n",
    "         'Lines A','Lines B','Lines C',\n",
    "         'Text A','Text B','Text C',\n",
    "         'Mirror A','Mirror B','Mirror C',\n",
    "         'Purple A','Purple B','Purple C',\n",
    "         'Yellow A','Yellow B','Yellow C',\n",
    "         'Sobel A','Sobel B','Sobel C']\n",
    "items = [Button(description=w) for w in words]"
   ]
  },
  {
   "cell_type": "code",
   "execution_count": null,
   "metadata": {},
   "outputs": [],
   "source": [
    "def clicked(b):\n",
    "    wid = hdmi_out.mode.width\n",
    "    hig = hdmi_out.mode.height\n",
    "    test = cv2.imread('background.jpg',1);\n",
    "\n",
    "    outframe = hdmi_out.newframe()\n",
    "    outframe[0:hig,0:wid] = test[0:hig,0:wid,:]\n",
    "\n",
    "    hdmi_out.writeframe(outframe)\n",
    "\n",
    "items[0].on_click(clicked)"
   ]
  },
  {
   "cell_type": "code",
   "execution_count": null,
   "metadata": {},
   "outputs": [],
   "source": [
    "def clicked(b):\n",
    "    wid = hdmi_out.mode.width\n",
    "    hig = hdmi_out.mode.height\n",
    "    test = cv2.imread('background2.jpg',1);\n",
    "\n",
    "    outframe = hdmi_out.newframe()\n",
    "    outframe[0:hig,0:wid] = test[0:hig,0:wid,:]\n",
    "\n",
    "    hdmi_out.writeframe(outframe)\n",
    "\n",
    "items[1].on_click(clicked)"
   ]
  },
  {
   "cell_type": "code",
   "execution_count": null,
   "metadata": {},
   "outputs": [],
   "source": [
    "def clicked(b):\n",
    "    wid = hdmi_out.mode.width\n",
    "    hig = hdmi_out.mode.height\n",
    "    test = cv2.imread('background3.jpg',1);\n",
    "\n",
    "    outframe = hdmi_out.newframe()\n",
    "    outframe[0:hig,0:wid] = test[0:hig,0:wid,:]\n",
    "\n",
    "    hdmi_out.writeframe(outframe)\n",
    "\n",
    "items[2].on_click(clicked)"
   ]
  },
  {
   "cell_type": "code",
   "execution_count": null,
   "metadata": {},
   "outputs": [],
   "source": [
    "def clicked(b):\n",
    "    PartialBitstream(\"pass_m0.bit\").download()\n",
    "\n",
    "items[3].on_click(clicked)"
   ]
  },
  {
   "cell_type": "code",
   "execution_count": null,
   "metadata": {},
   "outputs": [],
   "source": [
    "def clicked(b):\n",
    "    PartialBitstream(\"pass_m1.bit\").download()\n",
    "\n",
    "items[4].on_click(clicked)"
   ]
  },
  {
   "cell_type": "code",
   "execution_count": null,
   "metadata": {},
   "outputs": [],
   "source": [
    "def clicked(b):\n",
    "    PartialBitstream(\"pass_m2.bit\").download()\n",
    "\n",
    "items[5].on_click(clicked)"
   ]
  },
  {
   "cell_type": "code",
   "execution_count": null,
   "metadata": {},
   "outputs": [],
   "source": [
    "def clicked(b):\n",
    "    PartialBitstream(\"dilate_m0.bit\").download()\n",
    "\n",
    "items[6].on_click(clicked)"
   ]
  },
  {
   "cell_type": "code",
   "execution_count": null,
   "metadata": {},
   "outputs": [],
   "source": [
    "def clicked(b):\n",
    "    PartialBitstream(\"dilate_m1.bit\").download()\n",
    "\n",
    "items[7].on_click(clicked)"
   ]
  },
  {
   "cell_type": "code",
   "execution_count": null,
   "metadata": {},
   "outputs": [],
   "source": [
    "def clicked(b):\n",
    "    PartialBitstream(\"dilate_m2.bit\").download()\n",
    "\n",
    "items[8].on_click(clicked)"
   ]
  },
  {
   "cell_type": "code",
   "execution_count": null,
   "metadata": {},
   "outputs": [],
   "source": [
    "def clicked(b):\n",
    "    PartialBitstream(\"emboss_m0.bit\").download()\n",
    "\n",
    "items[9].on_click(clicked)"
   ]
  },
  {
   "cell_type": "code",
   "execution_count": null,
   "metadata": {},
   "outputs": [],
   "source": [
    "def clicked(b):\n",
    "    PartialBitstream(\"emboss_m1.bit\").download())\n",
    "\n",
    "items[10].on_click(clicked)"
   ]
  },
  {
   "cell_type": "code",
   "execution_count": null,
   "metadata": {},
   "outputs": [],
   "source": [
    "def clicked(b):\n",
    "    PartialBitstream(\"emboss_m2.bit\").download()\n",
    "\n",
    "items[11].on_click(clicked)"
   ]
  },
  {
   "cell_type": "code",
   "execution_count": null,
   "metadata": {},
   "outputs": [],
   "source": [
    "def clicked(b):\n",
    "    PartialBitstream(\"erode_m0.bit\").download()\n",
    "\n",
    "items[12].on_click(clicked)"
   ]
  },
  {
   "cell_type": "code",
   "execution_count": null,
   "metadata": {},
   "outputs": [],
   "source": [
    "def clicked(b):\n",
    "    PartialBitstream(\"erode_m1.bit\").download()\n",
    "\n",
    "items[13].on_click(clicked)"
   ]
  },
  {
   "cell_type": "code",
   "execution_count": null,
   "metadata": {},
   "outputs": [],
   "source": [
    "def clicked(b):\n",
    "    PartialBitstream(\"erode_m2.bit\").download()\n",
    "\n",
    "items[14].on_click(clicked)"
   ]
  },
  {
   "cell_type": "code",
   "execution_count": null,
   "metadata": {},
   "outputs": [],
   "source": [
    "def clicked(b):\n",
    "    PartialBitstream(\"grey_m0.bit\").download()\n",
    "\n",
    "items[15].on_click(clicked)"
   ]
  },
  {
   "cell_type": "code",
   "execution_count": null,
   "metadata": {},
   "outputs": [],
   "source": [
    "def clicked(b):\n",
    "    PartialBitstream(\"grey_m1.bit\").download()\n",
    "\n",
    "items[16].on_click(clicked)"
   ]
  },
  {
   "cell_type": "code",
   "execution_count": null,
   "metadata": {},
   "outputs": [],
   "source": [
    "def clicked(b):\n",
    "    PartialBitstream(\"grey_m2.bit\").download()\n",
    "\n",
    "items[17].on_click(clicked)"
   ]
  },
  {
   "cell_type": "code",
   "execution_count": null,
   "metadata": {},
   "outputs": [],
   "source": [
    "def clicked(b):\n",
    "    PartialBitstream(\"invert_m0.bit\").download()\n",
    "\n",
    "items[18].on_click(clicked)"
   ]
  },
  {
   "cell_type": "code",
   "execution_count": null,
   "metadata": {},
   "outputs": [],
   "source": [
    "def clicked(b):\n",
    "    PartialBitstream(\"invert_m1.bit\").download()\n",
    "\n",
    "items[19].on_click(clicked)"
   ]
  },
  {
   "cell_type": "code",
   "execution_count": null,
   "metadata": {},
   "outputs": [],
   "source": [
    "def clicked(b):\n",
    "    PartialBitstream(\"invert_m2.bit\").download()\n",
    "\n",
    "items[20].on_click(clicked)"
   ]
  },
  {
   "cell_type": "code",
   "execution_count": null,
   "metadata": {},
   "outputs": [],
   "source": [
    "def clicked(b):\n",
    "    PartialBitstream(\"kernel_m0.bit\").download()\n",
    "    Sharpen = [0,-1,0,-1,5,-1,0,-1,0]\n",
    "    Test = Sharpen\n",
    "    for i in range(0,9):\n",
    "        pr_inst.filter_cmd(\"M0\",i,Test[i])\n",
    "    \n",
    "    \n",
    "items[21].on_click(clicked)"
   ]
  },
  {
   "cell_type": "code",
   "execution_count": null,
   "metadata": {},
   "outputs": [],
   "source": [
    "def clicked(b):\n",
    "    PartialBitstream(\"kernel_m1.bit\").download()\n",
    "    Sharpen = [0,-1,0,-1,5,-1,0,-1,0]\n",
    "    Test = Sharpen\n",
    "    for i in range(0,9):\n",
    "        pr_inst.filter_cmd(\"M1\",i,Test[i])\n",
    "    \n",
    "    \n",
    "items[22].on_click(clicked)"
   ]
  },
  {
   "cell_type": "code",
   "execution_count": null,
   "metadata": {},
   "outputs": [],
   "source": [
    "def clicked(b):\n",
    "    PartialBitstream(\"kernel_m2.bit\").download()\n",
    "    Sharpen = [0,-1,0,-1,5,-1,0,-1,0]\n",
    "    Test = Sharpen\n",
    "    for i in range(0,9):\n",
    "        pr_inst.filter_cmd(\"M2\",i,Test[i])\n",
    "    \n",
    "    \n",
    "items[23].on_click(clicked)"
   ]
  },
  {
   "cell_type": "code",
   "execution_count": null,
   "metadata": {},
   "outputs": [],
   "source": [
    "def clicked(b):\n",
    "    PartialBitstream(\"kernel_m0.bit\").download()\n",
    "    Outline = [-1,-1,-1,-1,8,-1,-1,-1,-1]\n",
    "    Test = Outline\n",
    "    for i in range(0,9):\n",
    "        pr_inst.filter_cmd(\"M0\",i,Test[i])\n",
    "    \n",
    "    \n",
    "items[24].on_click(clicked)"
   ]
  },
  {
   "cell_type": "code",
   "execution_count": null,
   "metadata": {},
   "outputs": [],
   "source": [
    "def clicked(b):\n",
    "    PartialBitstream(\"kernel_m1.bit\").download()\n",
    "    Outline = [-1,-1,-1,-1,8,-1,-1,-1,-1]\n",
    "    Test = Outline\n",
    "    for i in range(0,9):\n",
    "        pr_inst.filter_cmd(\"M1\",i,Test[i])\n",
    "    \n",
    "    \n",
    "items[25].on_click(clicked)"
   ]
  },
  {
   "cell_type": "code",
   "execution_count": null,
   "metadata": {},
   "outputs": [],
   "source": [
    "def clicked(b):\n",
    "    PartialBitstream(\"kernel_m2.bit\").download()\n",
    "    Outline = [-1,-1,-1,-1,8,-1,-1,-1,-1]\n",
    "    Test = Outline\n",
    "    for i in range(0,9):\n",
    "        pr_inst.filter_cmd(\"M2\",i,Test[i])\n",
    "    \n",
    "    \n",
    "items[26].on_click(clicked)"
   ]
  },
  {
   "cell_type": "code",
   "execution_count": null,
   "metadata": {},
   "outputs": [],
   "source": [
    "def clicked(b):\n",
    "    PartialBitstream(\"lines_m0.bit\").download()\n",
    "    pr_inst.filter_cmd(\"M0\",1,300)\n",
    "    pr_inst.filter_cmd(\"M0\",2,1620)\n",
    "    pr_inst.filter_cmd(\"M0\",3,300)\n",
    "    pr_inst.filter_cmd(\"M0\",4,780)\n",
    "    pr_inst.filter_cmd(\"M0\",0,10)\n",
    "    \n",
    "    \n",
    "items[27].on_click(clicked)"
   ]
  },
  {
   "cell_type": "code",
   "execution_count": null,
   "metadata": {},
   "outputs": [],
   "source": [
    "def clicked(b):\n",
    "    PartialBitstream(\"lines_m1.bit\").download()\n",
    "    pr_inst.filter_cmd(\"M1\",1,400)\n",
    "    pr_inst.filter_cmd(\"M1\",2,1520)\n",
    "    pr_inst.filter_cmd(\"M1\",3,400)\n",
    "    pr_inst.filter_cmd(\"M1\",4,680)\n",
    "    pr_inst.filter_cmd(\"M1\",0,10)\n",
    "    \n",
    "    \n",
    "items[28].on_click(clicked)"
   ]
  },
  {
   "cell_type": "code",
   "execution_count": null,
   "metadata": {},
   "outputs": [],
   "source": [
    "def clicked(b):\n",
    "    PartialBitstream(\"lines_m2.bit\").download()\n",
    "    pr_inst.filter_cmd(\"M2\",1,500)\n",
    "    pr_inst.filter_cmd(\"M2\",2,1420)\n",
    "    pr_inst.filter_cmd(\"M2\",3,500)\n",
    "    pr_inst.filter_cmd(\"M2\",4,580)\n",
    "    pr_inst.filter_cmd(\"M2\",0,10)\n",
    "    \n",
    "    \n",
    "items[29].on_click(clicked)"
   ]
  },
  {
   "cell_type": "code",
   "execution_count": null,
   "metadata": {},
   "outputs": [],
   "source": [
    "def clicked(b):\n",
    "    PartialBitstream(\"ascii_m0.bit\").download()\n",
    "    pr_inst.filter_cmd(\"M0\",0,400)\n",
    "    pr_inst.filter_cmd(\"M0\",1,400)\n",
    "    pr_inst.filter_cmd(\"M0\",2,0x00FF00)\n",
    "    pr_inst.filter_cmd(\"M0\",3,4)\n",
    "    test_str = \"This is the Foreground\"\n",
    "    pr_inst.filter_cmd(\"M0\",6,len(test_str))\n",
    "    pr_inst.filter_cmd(\"M0\",5,0)\n",
    "    for char in test_str:\n",
    "        pr_inst.filter_cmd(\"M0\",4,ord(char))\n",
    "    \n",
    "    \n",
    "items[30].on_click(clicked)"
   ]
  },
  {
   "cell_type": "code",
   "execution_count": null,
   "metadata": {},
   "outputs": [],
   "source": [
    "def clicked(b):\n",
    "    PartialBitstream(\"ascii_m1.bit\").download()\n",
    "    pr_inst.filter_cmd(\"M1\",0,400)\n",
    "    pr_inst.filter_cmd(\"M1\",1,500)\n",
    "    pr_inst.filter_cmd(\"M1\",2,0xFF0000)\n",
    "    pr_inst.filter_cmd(\"M1\",3,4)\n",
    "    test_str = \"This is the Background\"\n",
    "    pr_inst.filter_cmd(\"M1\",6,len(test_str))\n",
    "    pr_inst.filter_cmd(\"M1\",5,0)\n",
    "    for char in test_str:\n",
    "        pr_inst.filter_cmd(\"M1\",4,ord(char))\n",
    "    \n",
    "    \n",
    "items[31].on_click(clicked)"
   ]
  },
  {
   "cell_type": "code",
   "execution_count": null,
   "metadata": {},
   "outputs": [],
   "source": [
    "def clicked(b):\n",
    "    PartialBitstream(\"ascii_m2.bit\").download()\n",
    "    pr_inst.filter_cmd(\"M2\",0,400)\n",
    "    pr_inst.filter_cmd(\"M2\",1,600)\n",
    "    pr_inst.filter_cmd(\"M2\",2,0xFF)\n",
    "    pr_inst.filter_cmd(\"M2\",3,4)\n",
    "    test_str = \"This is the Output\"\n",
    "    pr_inst.filter_cmd(\"M2\",6,len(test_str))\n",
    "    pr_inst.filter_cmd(\"M2\",5,0)\n",
    "    for char in test_str:\n",
    "        pr_inst.filter_cmd(\"M2\",4,ord(char))\n",
    "    \n",
    "    \n",
    "items[32].on_click(clicked)"
   ]
  },
  {
   "cell_type": "code",
   "execution_count": null,
   "metadata": {},
   "outputs": [],
   "source": [
    "def clicked(b):\n",
    "    PartialBitstream(\"mirror_m0.bit\").download() \n",
    "    \n",
    "items[33].on_click(clicked)"
   ]
  },
  {
   "cell_type": "code",
   "execution_count": null,
   "metadata": {},
   "outputs": [],
   "source": [
    "def clicked(b):\n",
    "    PartialBitstream(\"mirror_m1.bit\").download() \n",
    "    \n",
    "items[34].on_click(clicked)"
   ]
  },
  {
   "cell_type": "code",
   "execution_count": null,
   "metadata": {},
   "outputs": [],
   "source": [
    "def clicked(b):\n",
    "    PartialBitstream(\"mirror_m2.bit\").download() \n",
    "    \n",
    "items[35].on_click(clicked)"
   ]
  },
  {
   "cell_type": "code",
   "execution_count": null,
   "metadata": {},
   "outputs": [],
   "source": [
    "def clicked(b):\n",
    "    PartialBitstream(\"limit_m0.bit\").download()\n",
    "    pr_inst.filter_cmd(\"M0\",1,0)\n",
    "    \n",
    "items[36].on_click(clicked)"
   ]
  },
  {
   "cell_type": "code",
   "execution_count": null,
   "metadata": {},
   "outputs": [],
   "source": [
    "def clicked(b):\n",
    "    PartialBitstream(\"limit_m1.bit\").download()\n",
    "    pr_inst.filter_cmd(\"M1\",1,0)\n",
    "    \n",
    "items[37].on_click(clicked)"
   ]
  },
  {
   "cell_type": "code",
   "execution_count": null,
   "metadata": {},
   "outputs": [],
   "source": [
    "def clicked(b):\n",
    "    PartialBitstream(\"limit_m2.bit\").download()\n",
    "    pr_inst.filter_cmd(\"M2\",1,0)\n",
    "    \n",
    "items[38].on_click(clicked)"
   ]
  },
  {
   "cell_type": "code",
   "execution_count": null,
   "metadata": {},
   "outputs": [],
   "source": [
    "def clicked(b):\n",
    "    PartialBitstream(\"limit_m0.bit\").download()\n",
    "    pr_inst.filter_cmd(\"M0\",2,0)\n",
    "    \n",
    "items[39].on_click(clicked)"
   ]
  },
  {
   "cell_type": "code",
   "execution_count": null,
   "metadata": {},
   "outputs": [],
   "source": [
    "def clicked(b):\n",
    "    PartialBitstream(\"limit_m1.bit\").download()\n",
    "    pr_inst.filter_cmd(\"M1\",2,0)\n",
    "    \n",
    "items[40].on_click(clicked)"
   ]
  },
  {
   "cell_type": "code",
   "execution_count": null,
   "metadata": {},
   "outputs": [],
   "source": [
    "def clicked(b):\n",
    "    PartialBitstream(\"limit_m2.bit\").download()\n",
    "    pr_inst.filter_cmd(\"M2\",2,0)\n",
    "    \n",
    "items[41].on_click(clicked)"
   ]
  },
  {
   "cell_type": "code",
   "execution_count": null,
   "metadata": {},
   "outputs": [],
   "source": [
    "def clicked(b):\n",
    "    PartialBitstream(\"sobel_m0.bit\").download()\n",
    "    \n",
    "items[42].on_click(clicked)"
   ]
  },
  {
   "cell_type": "code",
   "execution_count": null,
   "metadata": {},
   "outputs": [],
   "source": [
    "def clicked(b):\n",
    "    PartialBitstream(\"sobel_m1.bit\").download()\\\n",
    "    \n",
    "items[43].on_click(clicked)"
   ]
  },
  {
   "cell_type": "code",
   "execution_count": null,
   "metadata": {},
   "outputs": [],
   "source": [
    "def clicked(b):\n",
    "    PartialBitstream(\"sobel_m2.bit\").download()\n",
    "    \n",
    "items[44].on_click(clicked)"
   ]
  },
  {
   "cell_type": "code",
   "execution_count": null,
   "metadata": {},
   "outputs": [],
   "source": [
    "def clicked(b):\n",
    "    pr_inst.connect(\"HDMI_IN\",\"M0\")\n",
    "    pr_inst.connect(\"M0\",\"MUX_A\")\n",
    "    pr_inst.connect(\"VDMA\",\"M1\")\n",
    "    pr_inst.connect(\"M1\",\"MUX_B\")\n",
    "    pr_inst.connect(\"MUX_1\",\"M2\")\n",
    "    pr_inst.connect(\"M2\",\"S2\")\n",
    "    pr_inst.connect(\"S0\",\"S1\")\n",
    "    pr_inst.connect(\"L0\",\"S0\")\n",
    "    pr_inst.connect(\"S2\",\"L0\")\n",
    "    \n",
    "for i in range(3,45):\n",
    "    items[i].on_click(clicked)"
   ]
  },
  {
   "cell_type": "code",
   "execution_count": null,
   "metadata": {},
   "outputs": [],
   "source": [
    "GUI =HBox([VBox([items[0],items[3],items[6],items[ 9],items[12],items[15],items[18],items[21],items[24],items[27],items[30],items[33],items[36],items[39],items[42]]),\n",
    "           VBox([items[1],items[4],items[7],items[10],items[13],items[16],items[19],items[22],items[25],items[28],items[31],items[34],items[37],items[40],items[43]]),\n",
    "           VBox([items[2],items[5],items[8],items[11],items[14],items[17],items[20],items[23],items[26],items[29],items[32],items[35],items[38],items[41],items[44]])])\n",
    "GUI.layout.justify_content = 'center'\n",
    "GUI"
   ]
  },
  {
   "cell_type": "code",
   "execution_count": null,
   "metadata": {},
   "outputs": [],
   "source": [
    "import ipywidgets as widgets\n",
    "from IPython.display import HTML, display\n",
    "\n",
    "Red_IRS = widgets.IntRangeSlider(\n",
    "    value=[0, 128],\n",
    "    min=0,\n",
    "    max=255,\n",
    "    step=1,\n",
    "    description='Valid Red:',\n",
    "    disabled=False,\n",
    "    continuous_update=True,\n",
    "    orientation='horizontal',\n",
    "    readout=True,\n",
    "    readout_format='d',\n",
    ")\n",
    "\n",
    "def update_red(*args):\n",
    "    Red = (Red_IRS.value)\n",
    "    pr_inst.filter_cmd(\"MUX\",0,Red[0])\n",
    "    pr_inst.filter_cmd(\"MUX\",1,Red[1])\n",
    "\n",
    "Red_IRS.observe(update_red, 'value')\n",
    "\n",
    "Green_IRS = widgets.IntRangeSlider(\n",
    "    value=[128, 255],\n",
    "    min=0,\n",
    "    max=255,\n",
    "    step=1,\n",
    "    description='Valid Green:',\n",
    "    disabled=False,\n",
    "    continuous_update=True,\n",
    "    orientation='horizontal',\n",
    "    readout=True,\n",
    "    readout_format='d',\n",
    ")\n",
    "\n",
    "def update_green(*args):\n",
    "    Green = (Green_IRS.value)\n",
    "    pr_inst.filter_cmd(\"MUX\",2,Green[0])\n",
    "    pr_inst.filter_cmd(\"MUX\",3,Green[1])\n",
    "    #print \"green hi: %d, green lo: %d\" % (Green[0], Green [1])\n",
    "Green_IRS.observe(update_green, 'value')\n",
    "\n",
    "Blue_IRS = widgets.IntRangeSlider(\n",
    "    value=[0, 128],\n",
    "    min=0,\n",
    "    max=255,\n",
    "    step=1,\n",
    "    description='Valid Blue:',\n",
    "    disabled=False,\n",
    "    continuous_update=True,\n",
    "    orientation='horizontal',\n",
    "    readout=True,\n",
    "    readout_format='d',\n",
    ")\n",
    "\n",
    "def update_blue(*args):\n",
    "    Blue = (Blue_IRS.value)\n",
    "    pr_inst.filter_cmd(\"MUX\",4,Blue[0])\n",
    "    pr_inst.filter_cmd(\"MUX\",5,Blue[1])\n",
    "Blue_IRS.observe(update_blue, 'value')\n",
    "\n",
    "widgets.VBox([Red_IRS, Green_IRS, Blue_IRS])"
   ]
  },
  {
   "cell_type": "code",
   "execution_count": null,
   "metadata": {},
   "outputs": [],
   "source": [
    "hdmi_out.close()\n",
    "hdmi_in.close()"
   ]
  },
  {
   "cell_type": "code",
   "execution_count": null,
   "metadata": {},
   "outputs": [],
   "source": []
  }
 ],
 "metadata": {
  "kernelspec": {
   "display_name": "Python 3",
   "language": "python",
   "name": "python3"
  },
  "language_info": {
   "codemirror_mode": {
    "name": "ipython",
    "version": 3
   },
   "file_extension": ".py",
   "mimetype": "text/x-python",
   "name": "python",
   "nbconvert_exporter": "python",
   "pygments_lexer": "ipython3",
   "version": "3.6.0"
  }
 },
 "nbformat": 4,
 "nbformat_minor": 2
}
