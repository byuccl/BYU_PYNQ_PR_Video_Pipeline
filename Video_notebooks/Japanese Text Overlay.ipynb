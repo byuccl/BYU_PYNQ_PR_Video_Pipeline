{
 "cells": [
  {
   "cell_type": "markdown",
   "metadata": {},
   "source": [
    "# Japanese Text Overlay #"
   ]
  },
  {
   "cell_type": "markdown",
   "metadata": {},
   "source": [
    "This is a Japanese hirigana text overlay\n"
   ]
  },
  {
   "cell_type": "markdown",
   "metadata": {},
   "source": [
    "First you download the bit file."
   ]
  },
  {
   "cell_type": "code",
   "execution_count": null,
   "metadata": {},
   "outputs": [],
   "source": [
    "from pynq.overlays.video import *\n",
    "from pynq.lib.video import *\n",
    "\n",
    "base = VideoOverlay(\"video.bit\")\n",
    "hdmi_in = base.video.hdmi_in\n",
    "hdmi_out = base.video.hdmi_out"
   ]
  },
  {
   "cell_type": "markdown",
   "metadata": {},
   "source": [
    "Then start up the PRControl, the video will not work otherwise. It initailzes the Video Axi Switch so HDMI runs through the VDMA."
   ]
  },
  {
   "cell_type": "code",
   "execution_count": null,
   "metadata": {},
   "outputs": [],
   "source": [
    "from pynq.overlays.video import PRControl\n",
    "pr_inst = PRControl()"
   ]
  },
  {
   "cell_type": "markdown",
   "metadata": {},
   "source": [
    "The best video sources are computers where you can control the resoltuion."
   ]
  },
  {
   "cell_type": "code",
   "execution_count": null,
   "metadata": {},
   "outputs": [],
   "source": [
    "hdmi_in.configure()\n",
    "hdmi_out.configure(hdmi_in.mode,PIXEL_BGR)\n",
    "hdmi_out.start()\n",
    "hdmi_in.start()\n",
    "hdmi_in.tie(hdmi_out)"
   ]
  },
  {
   "cell_type": "markdown",
   "metadata": {},
   "source": [
    "Here is a frame in VDMA."
   ]
  },
  {
   "cell_type": "code",
   "execution_count": null,
   "metadata": {},
   "outputs": [],
   "source": [
    "import PIL.Image\n",
    "import cv2\n",
    "frame = hdmi_in.readframe()\n",
    "frame = cv2.cvtColor(frame,cv2.COLOR_BGR2RGB)\n",
    "image = PIL.Image.fromarray(frame)\n",
    "image"
   ]
  },
  {
   "cell_type": "markdown",
   "metadata": {},
   "source": [
    "The Japanese Filter has to be loaded in. In can fit into L0,M0,M1,M2,S0,S1,S2,S3,S4,S5"
   ]
  },
  {
   "cell_type": "markdown",
   "metadata": {},
   "source": [
    "Connect the HDMI_IN to L0 and L0 to VDMA and VDMA to HDMI_OUT"
   ]
  },
  {
   "cell_type": "code",
   "execution_count": null,
   "metadata": {},
   "outputs": [],
   "source": [
    "pr_inst.connect(\"HDMI_IN\",\"L0\")\n",
    "pr_inst.connect(\"L0\",\"VDMA\")\n",
    "pr_inst.connect(\"VDMA\",\"HDMI_OUT\")\n"
   ]
  },
  {
   "cell_type": "code",
   "execution_count": null,
   "metadata": {},
   "outputs": [],
   "source": [
    "PartialBitstream(\"japanese_l0.bit\").download()"
   ]
  },
  {
   "cell_type": "code",
   "execution_count": null,
   "metadata": {},
   "outputs": [],
   "source": [
    "hirigana = {' ': 0, \n",
    "'a':1,'A':2,'i':3,'I':4,'u': 5, 'U':6,'e':7,'E':8,'o':9,'O':10,\n",
    "'KA':11,'GA':12,'KI':13,'GI':14,'KU':15,'GU':16,'KE':17,'GE':18,'KO':19,'GO':20,\n",
    "'SA':21,'ZA':22,'SI':23,'ZI':24,'SU':25,'ZU':26,'SE':27,'ZE':28,'SO':29,'ZO':30,          \n",
    "'TA':31,'DA':32,'TI':33,'DI':34,'tu':35,'TU':36,'DU':37,'TE':38,'DE':39,'TO':40, 'DO':41,\n",
    "'NA':42,'NI':43,'NU':44,'NE':45,'NO':46,\n",
    "'HA':47,'BA':48,'PA':49 ,\n",
    "'HI':50,'BI':51,'PI':52,\n",
    "'HU':53,'BU':54,'PU':55,\n",
    "'HE':56,'BE':57,'PE':58,\n",
    "'HO':59,'BO':60,'PO':61,\n",
    "'MA':62,'MI':63,'MU':64,'ME':65,'MO':66,\n",
    "'ya':67,'YA':68,'yu':69,'YU':70,'yo':71,'YO':72,\n",
    "'RA':73,'RI':74,'RU':75,'RE':76,'RO':77, \n",
    "'wa':78,'WA':79,'WI':80,'WE':81,'WO':82,\n",
    "'N' :83,'VU':84 }"
   ]
  },
  {
   "cell_type": "code",
   "execution_count": null,
   "metadata": {},
   "outputs": [],
   "source": [
    "pr_inst.filter_cmd(\"L0\",3,8)\n",
    "pr_inst.filter_cmd(\"L0\",6,5)\n",
    "pr_inst.filter_cmd(\"L0\",5,0)\n",
    "pr_inst.filter_cmd(\"L0\",4,hirigana[\"KO\"])\n",
    "pr_inst.filter_cmd(\"L0\",4,hirigana[\"N\"])\n",
    "pr_inst.filter_cmd(\"L0\",4,hirigana[\"NI\"])\n",
    "pr_inst.filter_cmd(\"L0\",4,hirigana[\"TI\"])\n",
    "pr_inst.filter_cmd(\"L0\",4,hirigana[\"HA\"])"
   ]
  },
  {
   "cell_type": "code",
   "execution_count": null,
   "metadata": {},
   "outputs": [],
   "source": [
    "import PIL.Image\n",
    "import cv2\n",
    "frame = hdmi_in.readframe()\n",
    "frame = cv2.cvtColor(frame,cv2.COLOR_BGR2RGB)\n",
    "image = PIL.Image.fromarray(frame)\n",
    "image"
   ]
  },
  {
   "cell_type": "markdown",
   "metadata": {},
   "source": [
    "Now we need to load a string into the filter\n",
    "#### JAPANESE Filter Settings ####\n",
    "* 0 Set X Offset\n",
    "* 1 Set Y Offset\n",
    "* 2 Set Color\n",
    "* 3 Set Font Size\n",
    "* 4 Write Char & increment write index\n",
    "* 5 Set Write Index\n",
    "* 6 Set Str Size\n",
    "\n",
    "pr_inst.filter_cmd(\"filter name\",cmd,data)"
   ]
  },
  {
   "cell_type": "code",
   "execution_count": null,
   "metadata": {},
   "outputs": [],
   "source": [
    "pr_inst.filter_cmd(\"L0\",3,8)\n",
    "pr_inst.filter_cmd(\"L0\",6,4)\n",
    "pr_inst.filter_cmd(\"L0\",5,0)\n",
    "pr_inst.filter_cmd(\"L0\",4,hirigana[\"YO\"])\n",
    "pr_inst.filter_cmd(\"L0\",4,hirigana[\"U\"])\n",
    "pr_inst.filter_cmd(\"L0\",4,hirigana[\"KU\"])\n",
    "pr_inst.filter_cmd(\"L0\",4,hirigana[\"SO\"])"
   ]
  },
  {
   "cell_type": "code",
   "execution_count": null,
   "metadata": {},
   "outputs": [],
   "source": [
    "import PIL.Image\n",
    "import cv2\n",
    "frame = hdmi_in.readframe()\n",
    "frame = cv2.cvtColor(frame,cv2.COLOR_BGR2RGB)\n",
    "image = PIL.Image.fromarray(frame)\n",
    "image"
   ]
  },
  {
   "cell_type": "code",
   "execution_count": null,
   "metadata": {},
   "outputs": [],
   "source": [
    "hdmi_out.close()\n",
    "hdmi_in.close()"
   ]
  }
 ],
 "metadata": {
  "kernelspec": {
   "display_name": "Python 3",
   "language": "python",
   "name": "python3"
  },
  "language_info": {
   "codemirror_mode": {
    "name": "ipython",
    "version": 3
   },
   "file_extension": ".py",
   "mimetype": "text/x-python",
   "name": "python",
   "nbconvert_exporter": "python",
   "pygments_lexer": "ipython3",
   "version": "3.6.0"
  }
 },
 "nbformat": 4,
 "nbformat_minor": 2
}
